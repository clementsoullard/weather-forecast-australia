{
 "cells": [
  {
   "cell_type": "markdown",
   "id": "3b11f3f7-43b3-4df4-b012-27b4ffc966a6",
   "metadata": {},
   "source": [
    "## Import des librairies"
   ]
  },
  {
   "cell_type": "code",
   "execution_count": 1,
   "id": "353efd5e",
   "metadata": {},
   "outputs": [],
   "source": [
    "import numpy as np\n",
    "import pandas as pd\n",
    "import seaborn as sns\n",
    "import matplotlib.pyplot as plt\n",
    "from sklearn.preprocessing import LabelEncoder\n",
    "from imblearn.over_sampling import SMOTE\n",
    "from sklearn.model_selection import train_test_split\n",
    "from sklearn.ensemble import RandomForestRegressor, RandomForestClassifier\n",
    "from sklearn.tree import DecisionTreeClassifier\n",
    "from sklearn.linear_model import LogisticRegression\n",
    "from sklearn.metrics import r2_score, accuracy_score, auc, roc_curve, confusion_matrix\n",
    "from xgboost import XGBClassifier"
   ]
  },
  {
   "cell_type": "code",
   "execution_count": 2,
   "id": "c213062a",
   "metadata": {},
   "outputs": [],
   "source": [
    "# Commenter l'une ou l'autre lignes suivant que l'on souhaite travailler sur le dataset enrichi ou non. \n",
    "\n",
    "data=pd.read_csv('weatherAUS.csv')\n",
    "\n",
    "# Décommenter cette ligne nous permet de travailler sur le modèle enrichi (Voir enrich.jpnb)\n",
    "# data=pd.read_csv('enricheredaus_sanscluster.csv')\n",
    "\n",
    "# A décommenter pour travailler sur le modèle simplifié \n",
    "#columns_to_preserve=['Date','Humidity3pm', 'Sunshine', 'varhumidity', 'Pressure9am', 'Rainfall', 'WindGustSpeed','Pressure3pm','RainTomorrow']\n",
    "#data=data[columns_to_preserve]\n",
    "\n",
    "#On supprime du Dataframe les lignes où RainTomorrow est nul\n",
    "liste=data.index[data['RainTomorrow'].isnull()]\n",
    "data.drop(liste , inplace=True)\n",
    "data=data.drop(columns='Location',errors='ignore')"
   ]
  },
  {
   "cell_type": "code",
   "execution_count": 3,
   "id": "af56aa97",
   "metadata": {},
   "outputs": [
    {
     "data": {
      "text/html": [
       "<div>\n",
       "<style scoped>\n",
       "    .dataframe tbody tr th:only-of-type {\n",
       "        vertical-align: middle;\n",
       "    }\n",
       "\n",
       "    .dataframe tbody tr th {\n",
       "        vertical-align: top;\n",
       "    }\n",
       "\n",
       "    .dataframe thead th {\n",
       "        text-align: right;\n",
       "    }\n",
       "</style>\n",
       "<table border=\"1\" class=\"dataframe\">\n",
       "  <thead>\n",
       "    <tr style=\"text-align: right;\">\n",
       "      <th></th>\n",
       "      <th>Date</th>\n",
       "      <th>Humidity3pm</th>\n",
       "      <th>Sunshine</th>\n",
       "      <th>varhumidity</th>\n",
       "      <th>Pressure9am</th>\n",
       "      <th>Rainfall</th>\n",
       "      <th>WindGustSpeed</th>\n",
       "      <th>Pressure3pm</th>\n",
       "      <th>RainTomorrow</th>\n",
       "    </tr>\n",
       "  </thead>\n",
       "  <tbody>\n",
       "    <tr>\n",
       "      <th>0</th>\n",
       "      <td>2008-12-01</td>\n",
       "      <td>22.0</td>\n",
       "      <td>NaN</td>\n",
       "      <td>NaN</td>\n",
       "      <td>1007.7</td>\n",
       "      <td>0.6</td>\n",
       "      <td>44.0</td>\n",
       "      <td>1007.1</td>\n",
       "      <td>No</td>\n",
       "    </tr>\n",
       "    <tr>\n",
       "      <th>1</th>\n",
       "      <td>2008-12-02</td>\n",
       "      <td>25.0</td>\n",
       "      <td>NaN</td>\n",
       "      <td>3.0</td>\n",
       "      <td>1010.6</td>\n",
       "      <td>0.0</td>\n",
       "      <td>44.0</td>\n",
       "      <td>1007.8</td>\n",
       "      <td>No</td>\n",
       "    </tr>\n",
       "    <tr>\n",
       "      <th>2</th>\n",
       "      <td>2008-12-03</td>\n",
       "      <td>30.0</td>\n",
       "      <td>NaN</td>\n",
       "      <td>5.0</td>\n",
       "      <td>1007.6</td>\n",
       "      <td>0.0</td>\n",
       "      <td>46.0</td>\n",
       "      <td>1008.7</td>\n",
       "      <td>No</td>\n",
       "    </tr>\n",
       "    <tr>\n",
       "      <th>3</th>\n",
       "      <td>2008-12-04</td>\n",
       "      <td>16.0</td>\n",
       "      <td>NaN</td>\n",
       "      <td>-14.0</td>\n",
       "      <td>1017.6</td>\n",
       "      <td>0.0</td>\n",
       "      <td>24.0</td>\n",
       "      <td>1012.8</td>\n",
       "      <td>No</td>\n",
       "    </tr>\n",
       "    <tr>\n",
       "      <th>4</th>\n",
       "      <td>2008-12-05</td>\n",
       "      <td>33.0</td>\n",
       "      <td>NaN</td>\n",
       "      <td>17.0</td>\n",
       "      <td>1010.8</td>\n",
       "      <td>1.0</td>\n",
       "      <td>41.0</td>\n",
       "      <td>1006.0</td>\n",
       "      <td>No</td>\n",
       "    </tr>\n",
       "  </tbody>\n",
       "</table>\n",
       "</div>"
      ],
      "text/plain": [
       "         Date  Humidity3pm  Sunshine  varhumidity  Pressure9am  Rainfall  \\\n",
       "0  2008-12-01         22.0       NaN          NaN       1007.7       0.6   \n",
       "1  2008-12-02         25.0       NaN          3.0       1010.6       0.0   \n",
       "2  2008-12-03         30.0       NaN          5.0       1007.6       0.0   \n",
       "3  2008-12-04         16.0       NaN        -14.0       1017.6       0.0   \n",
       "4  2008-12-05         33.0       NaN         17.0       1010.8       1.0   \n",
       "\n",
       "   WindGustSpeed  Pressure3pm RainTomorrow  \n",
       "0           44.0       1007.1           No  \n",
       "1           44.0       1007.8           No  \n",
       "2           46.0       1008.7           No  \n",
       "3           24.0       1012.8           No  \n",
       "4           41.0       1006.0           No  "
      ]
     },
     "execution_count": 3,
     "metadata": {},
     "output_type": "execute_result"
    }
   ],
   "source": [
    "data.head(5)"
   ]
  },
  {
   "cell_type": "code",
   "execution_count": 4,
   "id": "ce17563c",
   "metadata": {},
   "outputs": [],
   "source": [
    "#On convertit le type de la variable Date\n",
    "data['Date']=data['Date'].astype('datetime64')"
   ]
  },
  {
   "cell_type": "code",
   "execution_count": 5,
   "id": "8659a940",
   "metadata": {},
   "outputs": [
    {
     "name": "stdout",
     "output_type": "stream",
     "text": [
      "<class 'pandas.core.frame.DataFrame'>\n",
      "Int64Index: 142193 entries, 0 to 145458\n",
      "Data columns (total 9 columns):\n",
      " #   Column         Non-Null Count   Dtype         \n",
      "---  ------         --------------   -----         \n",
      " 0   Date           142193 non-null  datetime64[ns]\n",
      " 1   Humidity3pm    138583 non-null  float64       \n",
      " 2   Sunshine       74377 non-null   float64       \n",
      " 3   varhumidity    137698 non-null  float64       \n",
      " 4   Pressure9am    128179 non-null  float64       \n",
      " 5   Rainfall       140787 non-null  float64       \n",
      " 6   WindGustSpeed  132923 non-null  float64       \n",
      " 7   Pressure3pm    128212 non-null  float64       \n",
      " 8   RainTomorrow   142193 non-null  object        \n",
      "dtypes: datetime64[ns](1), float64(7), object(1)\n",
      "memory usage: 10.8+ MB\n"
     ]
    }
   ],
   "source": [
    "data.info()"
   ]
  },
  {
   "cell_type": "code",
   "execution_count": 6,
   "id": "37ef8753",
   "metadata": {},
   "outputs": [],
   "source": [
    "la = LabelEncoder()\n",
    "data['RainToday'] = la.fit_transform(data['RainToday'])\n",
    "data['RainTomorrow'] = la.fit_transform(data['RainTomorrow'])"
   ]
  },
  {
   "cell_type": "markdown",
   "id": "90202c0c",
   "metadata": {},
   "source": [
    "# Data cleaning"
   ]
  },
  {
   "cell_type": "code",
   "execution_count": 7,
   "id": "035691d9",
   "metadata": {},
   "outputs": [],
   "source": [
    "data = pd.get_dummies(data)"
   ]
  },
  {
   "cell_type": "code",
   "execution_count": 8,
   "id": "62ef96c2-c82c-4286-b93f-f73f28a172ed",
   "metadata": {},
   "outputs": [],
   "source": [
    "data = data.dropna()"
   ]
  },
  {
   "cell_type": "markdown",
   "id": "7cfafc97",
   "metadata": {},
   "source": [
    "# Entraînement du modèle"
   ]
  },
  {
   "cell_type": "code",
   "execution_count": 9,
   "id": "fa541e3d",
   "metadata": {},
   "outputs": [
    {
     "name": "stderr",
     "output_type": "stream",
     "text": [
      "/tmp/ipykernel_394/3685902465.py:1: FutureWarning: The default value of numeric_only in DataFrame.corr is deprecated. In a future version, it will default to False. Select only valid columns or specify the value of numeric_only to silence this warning.\n",
      "  cor = data.corr()\n",
      "/tmp/ipykernel_394/3685902465.py:2: FutureWarning: The default value of numeric_only in DataFrame.corr is deprecated. In a future version, it will default to False. Select only valid columns or specify the value of numeric_only to silence this warning.\n",
      "  cor2 = data.corr()\n"
     ]
    }
   ],
   "source": [
    "cor = data.corr()\n",
    "cor2 = data.corr()\n",
    "cor = np.where(cor <0,cor*-1 , cor)\n",
    "cor=pd.DataFrame(cor)\n",
    "cor.columns=cor2.columns\n",
    "cor.index =cor2.index "
   ]
  },
  {
   "cell_type": "code",
   "execution_count": 10,
   "id": "4cce8e64",
   "metadata": {},
   "outputs": [
    {
     "data": {
      "text/html": [
       "<div>\n",
       "<style scoped>\n",
       "    .dataframe tbody tr th:only-of-type {\n",
       "        vertical-align: middle;\n",
       "    }\n",
       "\n",
       "    .dataframe tbody tr th {\n",
       "        vertical-align: top;\n",
       "    }\n",
       "\n",
       "    .dataframe thead th {\n",
       "        text-align: right;\n",
       "    }\n",
       "</style>\n",
       "<table border=\"1\" class=\"dataframe\">\n",
       "  <thead>\n",
       "    <tr style=\"text-align: right;\">\n",
       "      <th></th>\n",
       "      <th>Humidity3pm</th>\n",
       "      <th>Sunshine</th>\n",
       "      <th>varhumidity</th>\n",
       "      <th>Pressure9am</th>\n",
       "      <th>Rainfall</th>\n",
       "      <th>WindGustSpeed</th>\n",
       "      <th>Pressure3pm</th>\n",
       "      <th>RainTomorrow</th>\n",
       "    </tr>\n",
       "  </thead>\n",
       "  <tbody>\n",
       "    <tr>\n",
       "      <th>Humidity3pm</th>\n",
       "      <td>1.000000</td>\n",
       "      <td>0.637521</td>\n",
       "      <td>0.418671</td>\n",
       "      <td>0.059048</td>\n",
       "      <td>0.259480</td>\n",
       "      <td>0.052187</td>\n",
       "      <td>0.028476</td>\n",
       "      <td>0.456552</td>\n",
       "    </tr>\n",
       "    <tr>\n",
       "      <th>Sunshine</th>\n",
       "      <td>0.637521</td>\n",
       "      <td>1.000000</td>\n",
       "      <td>0.300893</td>\n",
       "      <td>0.045355</td>\n",
       "      <td>0.230080</td>\n",
       "      <td>0.033548</td>\n",
       "      <td>0.014928</td>\n",
       "      <td>0.454024</td>\n",
       "    </tr>\n",
       "    <tr>\n",
       "      <th>varhumidity</th>\n",
       "      <td>0.418671</td>\n",
       "      <td>0.300893</td>\n",
       "      <td>1.000000</td>\n",
       "      <td>0.102522</td>\n",
       "      <td>0.060028</td>\n",
       "      <td>0.044272</td>\n",
       "      <td>0.063414</td>\n",
       "      <td>0.267506</td>\n",
       "    </tr>\n",
       "    <tr>\n",
       "      <th>Pressure9am</th>\n",
       "      <td>0.059048</td>\n",
       "      <td>0.045355</td>\n",
       "      <td>0.102522</td>\n",
       "      <td>1.000000</td>\n",
       "      <td>0.175320</td>\n",
       "      <td>0.449964</td>\n",
       "      <td>0.961555</td>\n",
       "      <td>0.265992</td>\n",
       "    </tr>\n",
       "    <tr>\n",
       "      <th>Rainfall</th>\n",
       "      <td>0.259480</td>\n",
       "      <td>0.230080</td>\n",
       "      <td>0.060028</td>\n",
       "      <td>0.175320</td>\n",
       "      <td>1.000000</td>\n",
       "      <td>0.116457</td>\n",
       "      <td>0.139090</td>\n",
       "      <td>0.237118</td>\n",
       "    </tr>\n",
       "    <tr>\n",
       "      <th>WindGustSpeed</th>\n",
       "      <td>0.052187</td>\n",
       "      <td>0.033548</td>\n",
       "      <td>0.044272</td>\n",
       "      <td>0.449964</td>\n",
       "      <td>0.116457</td>\n",
       "      <td>1.000000</td>\n",
       "      <td>0.406659</td>\n",
       "      <td>0.238022</td>\n",
       "    </tr>\n",
       "    <tr>\n",
       "      <th>Pressure3pm</th>\n",
       "      <td>0.028476</td>\n",
       "      <td>0.014928</td>\n",
       "      <td>0.063414</td>\n",
       "      <td>0.961555</td>\n",
       "      <td>0.139090</td>\n",
       "      <td>0.406659</td>\n",
       "      <td>1.000000</td>\n",
       "      <td>0.243252</td>\n",
       "    </tr>\n",
       "    <tr>\n",
       "      <th>RainTomorrow</th>\n",
       "      <td>0.456552</td>\n",
       "      <td>0.454024</td>\n",
       "      <td>0.267506</td>\n",
       "      <td>0.265992</td>\n",
       "      <td>0.237118</td>\n",
       "      <td>0.238022</td>\n",
       "      <td>0.243252</td>\n",
       "      <td>1.000000</td>\n",
       "    </tr>\n",
       "  </tbody>\n",
       "</table>\n",
       "</div>"
      ],
      "text/plain": [
       "               Humidity3pm  Sunshine  varhumidity  Pressure9am  Rainfall  \\\n",
       "Humidity3pm       1.000000  0.637521     0.418671     0.059048  0.259480   \n",
       "Sunshine          0.637521  1.000000     0.300893     0.045355  0.230080   \n",
       "varhumidity       0.418671  0.300893     1.000000     0.102522  0.060028   \n",
       "Pressure9am       0.059048  0.045355     0.102522     1.000000  0.175320   \n",
       "Rainfall          0.259480  0.230080     0.060028     0.175320  1.000000   \n",
       "WindGustSpeed     0.052187  0.033548     0.044272     0.449964  0.116457   \n",
       "Pressure3pm       0.028476  0.014928     0.063414     0.961555  0.139090   \n",
       "RainTomorrow      0.456552  0.454024     0.267506     0.265992  0.237118   \n",
       "\n",
       "               WindGustSpeed  Pressure3pm  RainTomorrow  \n",
       "Humidity3pm         0.052187     0.028476      0.456552  \n",
       "Sunshine            0.033548     0.014928      0.454024  \n",
       "varhumidity         0.044272     0.063414      0.267506  \n",
       "Pressure9am         0.449964     0.961555      0.265992  \n",
       "Rainfall            0.116457     0.139090      0.237118  \n",
       "WindGustSpeed       1.000000     0.406659      0.238022  \n",
       "Pressure3pm         0.406659     1.000000      0.243252  \n",
       "RainTomorrow        0.238022     0.243252      1.000000  "
      ]
     },
     "execution_count": 10,
     "metadata": {},
     "output_type": "execute_result"
    }
   ],
   "source": [
    "cor"
   ]
  },
  {
   "cell_type": "code",
   "execution_count": 11,
   "id": "8e8e90f9",
   "metadata": {
    "scrolled": true
   },
   "outputs": [],
   "source": [
    "x=data"
   ]
  },
  {
   "cell_type": "code",
   "execution_count": 12,
   "id": "cccac237",
   "metadata": {
    "scrolled": true
   },
   "outputs": [
    {
     "data": {
      "text/html": [
       "<div>\n",
       "<style scoped>\n",
       "    .dataframe tbody tr th:only-of-type {\n",
       "        vertical-align: middle;\n",
       "    }\n",
       "\n",
       "    .dataframe tbody tr th {\n",
       "        vertical-align: top;\n",
       "    }\n",
       "\n",
       "    .dataframe thead th {\n",
       "        text-align: right;\n",
       "    }\n",
       "</style>\n",
       "<table border=\"1\" class=\"dataframe\">\n",
       "  <thead>\n",
       "    <tr style=\"text-align: right;\">\n",
       "      <th></th>\n",
       "      <th>Humidity3pm</th>\n",
       "      <th>Sunshine</th>\n",
       "      <th>varhumidity</th>\n",
       "      <th>Pressure9am</th>\n",
       "      <th>Rainfall</th>\n",
       "      <th>WindGustSpeed</th>\n",
       "      <th>Pressure3pm</th>\n",
       "    </tr>\n",
       "  </thead>\n",
       "  <tbody>\n",
       "    <tr>\n",
       "      <th>6050</th>\n",
       "      <td>8.0</td>\n",
       "      <td>13.0</td>\n",
       "      <td>-5.0</td>\n",
       "      <td>1012.9</td>\n",
       "      <td>0.0</td>\n",
       "      <td>37.0</td>\n",
       "      <td>1012.1</td>\n",
       "    </tr>\n",
       "    <tr>\n",
       "      <th>6052</th>\n",
       "      <td>22.0</td>\n",
       "      <td>10.6</td>\n",
       "      <td>15.0</td>\n",
       "      <td>1012.3</td>\n",
       "      <td>0.0</td>\n",
       "      <td>46.0</td>\n",
       "      <td>1009.2</td>\n",
       "    </tr>\n",
       "    <tr>\n",
       "      <th>6053</th>\n",
       "      <td>22.0</td>\n",
       "      <td>12.2</td>\n",
       "      <td>0.0</td>\n",
       "      <td>1012.7</td>\n",
       "      <td>0.0</td>\n",
       "      <td>31.0</td>\n",
       "      <td>1009.1</td>\n",
       "    </tr>\n",
       "    <tr>\n",
       "      <th>6054</th>\n",
       "      <td>15.0</td>\n",
       "      <td>8.4</td>\n",
       "      <td>-7.0</td>\n",
       "      <td>1010.7</td>\n",
       "      <td>0.0</td>\n",
       "      <td>35.0</td>\n",
       "      <td>1007.4</td>\n",
       "    </tr>\n",
       "    <tr>\n",
       "      <th>6055</th>\n",
       "      <td>19.0</td>\n",
       "      <td>0.0</td>\n",
       "      <td>4.0</td>\n",
       "      <td>1007.7</td>\n",
       "      <td>0.0</td>\n",
       "      <td>43.0</td>\n",
       "      <td>1007.4</td>\n",
       "    </tr>\n",
       "    <tr>\n",
       "      <th>...</th>\n",
       "      <td>...</td>\n",
       "      <td>...</td>\n",
       "      <td>...</td>\n",
       "      <td>...</td>\n",
       "      <td>...</td>\n",
       "      <td>...</td>\n",
       "      <td>...</td>\n",
       "    </tr>\n",
       "    <tr>\n",
       "      <th>142298</th>\n",
       "      <td>32.0</td>\n",
       "      <td>11.0</td>\n",
       "      <td>4.0</td>\n",
       "      <td>1013.9</td>\n",
       "      <td>0.0</td>\n",
       "      <td>35.0</td>\n",
       "      <td>1010.5</td>\n",
       "    </tr>\n",
       "    <tr>\n",
       "      <th>142299</th>\n",
       "      <td>28.0</td>\n",
       "      <td>8.6</td>\n",
       "      <td>-4.0</td>\n",
       "      <td>1014.6</td>\n",
       "      <td>0.0</td>\n",
       "      <td>37.0</td>\n",
       "      <td>1011.2</td>\n",
       "    </tr>\n",
       "    <tr>\n",
       "      <th>142300</th>\n",
       "      <td>23.0</td>\n",
       "      <td>11.0</td>\n",
       "      <td>-5.0</td>\n",
       "      <td>1015.3</td>\n",
       "      <td>0.0</td>\n",
       "      <td>33.0</td>\n",
       "      <td>1011.8</td>\n",
       "    </tr>\n",
       "    <tr>\n",
       "      <th>142301</th>\n",
       "      <td>58.0</td>\n",
       "      <td>10.6</td>\n",
       "      <td>35.0</td>\n",
       "      <td>1014.9</td>\n",
       "      <td>0.0</td>\n",
       "      <td>26.0</td>\n",
       "      <td>1010.7</td>\n",
       "    </tr>\n",
       "    <tr>\n",
       "      <th>142302</th>\n",
       "      <td>32.0</td>\n",
       "      <td>10.7</td>\n",
       "      <td>-26.0</td>\n",
       "      <td>1013.9</td>\n",
       "      <td>0.0</td>\n",
       "      <td>30.0</td>\n",
       "      <td>1009.7</td>\n",
       "    </tr>\n",
       "  </tbody>\n",
       "</table>\n",
       "<p>69032 rows × 7 columns</p>\n",
       "</div>"
      ],
      "text/plain": [
       "        Humidity3pm  Sunshine  varhumidity  Pressure9am  Rainfall  \\\n",
       "6050            8.0      13.0         -5.0       1012.9       0.0   \n",
       "6052           22.0      10.6         15.0       1012.3       0.0   \n",
       "6053           22.0      12.2          0.0       1012.7       0.0   \n",
       "6054           15.0       8.4         -7.0       1010.7       0.0   \n",
       "6055           19.0       0.0          4.0       1007.7       0.0   \n",
       "...             ...       ...          ...          ...       ...   \n",
       "142298         32.0      11.0          4.0       1013.9       0.0   \n",
       "142299         28.0       8.6         -4.0       1014.6       0.0   \n",
       "142300         23.0      11.0         -5.0       1015.3       0.0   \n",
       "142301         58.0      10.6         35.0       1014.9       0.0   \n",
       "142302         32.0      10.7        -26.0       1013.9       0.0   \n",
       "\n",
       "        WindGustSpeed  Pressure3pm  \n",
       "6050             37.0       1012.1  \n",
       "6052             46.0       1009.2  \n",
       "6053             31.0       1009.1  \n",
       "6054             35.0       1007.4  \n",
       "6055             43.0       1007.4  \n",
       "...               ...          ...  \n",
       "142298           35.0       1010.5  \n",
       "142299           37.0       1011.2  \n",
       "142300           33.0       1011.8  \n",
       "142301           26.0       1010.7  \n",
       "142302           30.0       1009.7  \n",
       "\n",
       "[69032 rows x 7 columns]"
      ]
     },
     "execution_count": 12,
     "metadata": {},
     "output_type": "execute_result"
    }
   ],
   "source": [
    "x = data\n",
    "y = data['RainTomorrow']\n",
    "x.drop('RainTomorrow', inplace = True, axis = 1)\n",
    "x.drop('qtyraintomorrow', inplace = True, axis = 1,errors='ignore')\n",
    "#x.drop('qtyraintomorrow', inplace = True, axis = 1)\n",
    "x.drop('Date', inplace = True, axis = 1)\n",
    "x"
   ]
  },
  {
   "cell_type": "code",
   "execution_count": 13,
   "id": "75dd3021",
   "metadata": {
    "scrolled": true
   },
   "outputs": [
    {
     "data": {
      "text/plain": [
       "0    53818\n",
       "1    15214\n",
       "Name: RainTomorrow, dtype: int64"
      ]
     },
     "execution_count": 13,
     "metadata": {},
     "output_type": "execute_result"
    }
   ],
   "source": [
    "y.value_counts()"
   ]
  },
  {
   "cell_type": "code",
   "execution_count": 14,
   "id": "2d3db828",
   "metadata": {},
   "outputs": [],
   "source": [
    "x_train, x_test, y_train, y_test = train_test_split(x, y, test_size=0.20)"
   ]
  },
  {
   "cell_type": "markdown",
   "id": "79f946bc-f4d5-42dd-8724-69128389c489",
   "metadata": {},
   "source": [
    "## Interpolation des valeur manquantes"
   ]
  },
  {
   "cell_type": "markdown",
   "id": "2612b542",
   "metadata": {},
   "source": [
    "# Evaluation du modèle"
   ]
  },
  {
   "cell_type": "code",
   "execution_count": 15,
   "id": "8b37a87b-4d0c-4d8f-9d31-5f7e8fd92ca9",
   "metadata": {},
   "outputs": [
    {
     "data": {
      "text/html": [
       "<style>#sk-container-id-1 {color: black;background-color: white;}#sk-container-id-1 pre{padding: 0;}#sk-container-id-1 div.sk-toggleable {background-color: white;}#sk-container-id-1 label.sk-toggleable__label {cursor: pointer;display: block;width: 100%;margin-bottom: 0;padding: 0.3em;box-sizing: border-box;text-align: center;}#sk-container-id-1 label.sk-toggleable__label-arrow:before {content: \"▸\";float: left;margin-right: 0.25em;color: #696969;}#sk-container-id-1 label.sk-toggleable__label-arrow:hover:before {color: black;}#sk-container-id-1 div.sk-estimator:hover label.sk-toggleable__label-arrow:before {color: black;}#sk-container-id-1 div.sk-toggleable__content {max-height: 0;max-width: 0;overflow: hidden;text-align: left;background-color: #f0f8ff;}#sk-container-id-1 div.sk-toggleable__content pre {margin: 0.2em;color: black;border-radius: 0.25em;background-color: #f0f8ff;}#sk-container-id-1 input.sk-toggleable__control:checked~div.sk-toggleable__content {max-height: 200px;max-width: 100%;overflow: auto;}#sk-container-id-1 input.sk-toggleable__control:checked~label.sk-toggleable__label-arrow:before {content: \"▾\";}#sk-container-id-1 div.sk-estimator input.sk-toggleable__control:checked~label.sk-toggleable__label {background-color: #d4ebff;}#sk-container-id-1 div.sk-label input.sk-toggleable__control:checked~label.sk-toggleable__label {background-color: #d4ebff;}#sk-container-id-1 input.sk-hidden--visually {border: 0;clip: rect(1px 1px 1px 1px);clip: rect(1px, 1px, 1px, 1px);height: 1px;margin: -1px;overflow: hidden;padding: 0;position: absolute;width: 1px;}#sk-container-id-1 div.sk-estimator {font-family: monospace;background-color: #f0f8ff;border: 1px dotted black;border-radius: 0.25em;box-sizing: border-box;margin-bottom: 0.5em;}#sk-container-id-1 div.sk-estimator:hover {background-color: #d4ebff;}#sk-container-id-1 div.sk-parallel-item::after {content: \"\";width: 100%;border-bottom: 1px solid gray;flex-grow: 1;}#sk-container-id-1 div.sk-label:hover label.sk-toggleable__label {background-color: #d4ebff;}#sk-container-id-1 div.sk-serial::before {content: \"\";position: absolute;border-left: 1px solid gray;box-sizing: border-box;top: 0;bottom: 0;left: 50%;z-index: 0;}#sk-container-id-1 div.sk-serial {display: flex;flex-direction: column;align-items: center;background-color: white;padding-right: 0.2em;padding-left: 0.2em;position: relative;}#sk-container-id-1 div.sk-item {position: relative;z-index: 1;}#sk-container-id-1 div.sk-parallel {display: flex;align-items: stretch;justify-content: center;background-color: white;position: relative;}#sk-container-id-1 div.sk-item::before, #sk-container-id-1 div.sk-parallel-item::before {content: \"\";position: absolute;border-left: 1px solid gray;box-sizing: border-box;top: 0;bottom: 0;left: 50%;z-index: -1;}#sk-container-id-1 div.sk-parallel-item {display: flex;flex-direction: column;z-index: 1;position: relative;background-color: white;}#sk-container-id-1 div.sk-parallel-item:first-child::after {align-self: flex-end;width: 50%;}#sk-container-id-1 div.sk-parallel-item:last-child::after {align-self: flex-start;width: 50%;}#sk-container-id-1 div.sk-parallel-item:only-child::after {width: 0;}#sk-container-id-1 div.sk-dashed-wrapped {border: 1px dashed gray;margin: 0 0.4em 0.5em 0.4em;box-sizing: border-box;padding-bottom: 0.4em;background-color: white;}#sk-container-id-1 div.sk-label label {font-family: monospace;font-weight: bold;display: inline-block;line-height: 1.2em;}#sk-container-id-1 div.sk-label-container {text-align: center;}#sk-container-id-1 div.sk-container {/* jupyter's `normalize.less` sets `[hidden] { display: none; }` but bootstrap.min.css set `[hidden] { display: none !important; }` so we also need the `!important` here to be able to override the default hidden behavior on the sphinx rendered scikit-learn.org. See: https://github.com/scikit-learn/scikit-learn/issues/21755 */display: inline-block !important;position: relative;}#sk-container-id-1 div.sk-text-repr-fallback {display: none;}</style><div id=\"sk-container-id-1\" class=\"sk-top-container\"><div class=\"sk-text-repr-fallback\"><pre>RandomForestClassifier(n_estimators=200)</pre><b>In a Jupyter environment, please rerun this cell to show the HTML representation or trust the notebook. <br />On GitHub, the HTML representation is unable to render, please try loading this page with nbviewer.org.</b></div><div class=\"sk-container\" hidden><div class=\"sk-item\"><div class=\"sk-estimator sk-toggleable\"><input class=\"sk-toggleable__control sk-hidden--visually\" id=\"sk-estimator-id-1\" type=\"checkbox\" checked><label for=\"sk-estimator-id-1\" class=\"sk-toggleable__label sk-toggleable__label-arrow\">RandomForestClassifier</label><div class=\"sk-toggleable__content\"><pre>RandomForestClassifier(n_estimators=200)</pre></div></div></div></div></div>"
      ],
      "text/plain": [
       "RandomForestClassifier(n_estimators=200)"
      ]
     },
     "execution_count": 15,
     "metadata": {},
     "output_type": "execute_result"
    }
   ],
   "source": [
    "rf = RandomForestClassifier(n_estimators = 200)\n",
    "rf.fit(x_train, y_train)"
   ]
  },
  {
   "cell_type": "code",
   "execution_count": 16,
   "id": "a76dbf0f",
   "metadata": {},
   "outputs": [
    {
     "name": "stdout",
     "output_type": "stream",
     "text": [
      "La précision est de 86.14470920547548 %\n"
     ]
    }
   ],
   "source": [
    "predicted = rf.predict(x_test)\n",
    "print(\"La précision est de {} %\".format(accuracy_score(predicted, y_test)*100))"
   ]
  },
  {
   "cell_type": "code",
   "execution_count": 17,
   "id": "3097df3a",
   "metadata": {},
   "outputs": [
    {
     "data": {
      "text/html": [
       "<div>\n",
       "<style scoped>\n",
       "    .dataframe tbody tr th:only-of-type {\n",
       "        vertical-align: middle;\n",
       "    }\n",
       "\n",
       "    .dataframe tbody tr th {\n",
       "        vertical-align: top;\n",
       "    }\n",
       "\n",
       "    .dataframe thead th {\n",
       "        text-align: right;\n",
       "    }\n",
       "</style>\n",
       "<table border=\"1\" class=\"dataframe\">\n",
       "  <thead>\n",
       "    <tr style=\"text-align: right;\">\n",
       "      <th>RainTomorrow</th>\n",
       "      <th>0</th>\n",
       "      <th>1</th>\n",
       "    </tr>\n",
       "    <tr>\n",
       "      <th>row_0</th>\n",
       "      <th></th>\n",
       "      <th></th>\n",
       "    </tr>\n",
       "  </thead>\n",
       "  <tbody>\n",
       "    <tr>\n",
       "      <th>0</th>\n",
       "      <td>10199</td>\n",
       "      <td>1344</td>\n",
       "    </tr>\n",
       "    <tr>\n",
       "      <th>1</th>\n",
       "      <td>569</td>\n",
       "      <td>1695</td>\n",
       "    </tr>\n",
       "  </tbody>\n",
       "</table>\n",
       "</div>"
      ],
      "text/plain": [
       "RainTomorrow      0     1\n",
       "row_0                    \n",
       "0             10199  1344\n",
       "1               569  1695"
      ]
     },
     "execution_count": 17,
     "metadata": {},
     "output_type": "execute_result"
    }
   ],
   "source": [
    "pd.crosstab(predicted, y_test)"
   ]
  },
  {
   "cell_type": "code",
   "execution_count": 18,
   "id": "c2299310-fd4c-4a8b-8101-47b7325c62bb",
   "metadata": {},
   "outputs": [
    {
     "name": "stdout",
     "output_type": "stream",
     "text": [
      "[0.84478888 0.85014848 0.84289439 0.87222947 0.85535275]\n"
     ]
    }
   ],
   "source": [
    "from sklearn.model_selection import cross_val_score\n",
    "scores = cross_val_score(rf, x, y, cv=5)\n",
    "print(scores)\n"
   ]
  },
  {
   "cell_type": "markdown",
   "id": "bf79ff11-cd5e-47bb-8f20-554799e0a72a",
   "metadata": {},
   "source": [
    "## Sauvegarde du modèle simplifié (voir enrich.jpnb)"
   ]
  },
  {
   "cell_type": "code",
   "execution_count": 21,
   "id": "a7f7bbd6-f986-41c5-9de2-0da7f9197a42",
   "metadata": {},
   "outputs": [
    {
     "data": {
      "text/plain": [
       "['simplified_model.sav']"
      ]
     },
     "execution_count": 21,
     "metadata": {},
     "output_type": "execute_result"
    }
   ],
   "source": [
    "import joblib\n",
    "filename = 'simplified_model.sav'\n",
    "#joblib.dump(rf, filename)"
   ]
  }
 ],
 "metadata": {
  "kernelspec": {
   "display_name": "Python 3 (ipykernel)",
   "language": "python",
   "name": "python3"
  },
  "language_info": {
   "codemirror_mode": {
    "name": "ipython",
    "version": 3
   },
   "file_extension": ".py",
   "mimetype": "text/x-python",
   "name": "python",
   "nbconvert_exporter": "python",
   "pygments_lexer": "ipython3",
   "version": "3.8.13"
  }
 },
 "nbformat": 4,
 "nbformat_minor": 5
}
